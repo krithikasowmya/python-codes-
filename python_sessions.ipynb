{
  "cells": [
    {
      "cell_type": "markdown",
      "metadata": {
        "id": "view-in-github",
        "colab_type": "text"
      },
      "source": [
        "<a href=\"https://colab.research.google.com/github/krithikasowmya/python-codes-/blob/main/python_sessions.ipynb\" target=\"_parent\"><img src=\"https://colab.research.google.com/assets/colab-badge.svg\" alt=\"Open In Colab\"/></a>"
      ]
    },
    {
      "cell_type": "code",
      "execution_count": null,
      "metadata": {
        "colab": {
          "base_uri": "https://localhost:8080/"
        },
        "id": "K1mNS9m3Yh6A",
        "outputId": "f4534431-c03f-47a2-a6e6-3af2023d3d28"
      },
      "outputs": [
        {
          "name": "stdout",
          "output_type": "stream",
          "text": [
            "Remainder: 2\n"
          ]
        }
      ],
      "source": [
        "a = 20\n",
        "b = 3\n",
        "result =a % b\n",
        "print(\"Remainder:\",result)"
      ]
    },
    {
      "cell_type": "code",
      "source": [
        "'Krithika'"
      ],
      "metadata": {
        "id": "F9MNKvrlwuc2",
        "colab": {
          "base_uri": "https://localhost:8080/",
          "height": 35
        },
        "outputId": "8c62184f-f995-46fa-819e-85cad7061b97"
      },
      "execution_count": 1,
      "outputs": [
        {
          "output_type": "execute_result",
          "data": {
            "text/plain": [
              "'Krithika'"
            ],
            "application/vnd.google.colaboratory.intrinsic+json": {
              "type": "string"
            }
          },
          "metadata": {},
          "execution_count": 1
        }
      ]
    },
    {
      "cell_type": "code",
      "source": [
        "print('krithika')"
      ],
      "metadata": {
        "colab": {
          "base_uri": "https://localhost:8080/"
        },
        "id": "t5Nip-N867P9",
        "outputId": "ffaf116b-2575-4e2e-9dbf-3e0325c5d41e"
      },
      "execution_count": 2,
      "outputs": [
        {
          "output_type": "stream",
          "name": "stdout",
          "text": [
            "krithika\n"
          ]
        }
      ]
    },
    {
      "cell_type": "code",
      "source": [
        "print(\"krithika's system\")"
      ],
      "metadata": {
        "colab": {
          "base_uri": "https://localhost:8080/"
        },
        "id": "rHpflryD67Dj",
        "outputId": "e35e8134-d926-411d-da77-f52d5e376fea"
      },
      "execution_count": 3,
      "outputs": [
        {
          "output_type": "stream",
          "name": "stdout",
          "text": [
            "krithika's system\n"
          ]
        }
      ]
    },
    {
      "cell_type": "code",
      "source": [
        "'krithi' + 'krithi'"
      ],
      "metadata": {
        "colab": {
          "base_uri": "https://localhost:8080/",
          "height": 35
        },
        "id": "PS_0ZTZ67PlY",
        "outputId": "b6e0804b-ecaa-41e6-d88a-debe0fd55e66"
      },
      "execution_count": 5,
      "outputs": [
        {
          "output_type": "execute_result",
          "data": {
            "text/plain": [
              "'krithikrithi'"
            ],
            "application/vnd.google.colaboratory.intrinsic+json": {
              "type": "string"
            }
          },
          "metadata": {},
          "execution_count": 5
        }
      ]
    },
    {
      "cell_type": "code",
      "source": [
        "6*'krithi'"
      ],
      "metadata": {
        "colab": {
          "base_uri": "https://localhost:8080/",
          "height": 35
        },
        "id": "nuFIXWc_7Pd6",
        "outputId": "c7740415-7666-4efb-8735-88fc3b096cda"
      },
      "execution_count": 6,
      "outputs": [
        {
          "output_type": "execute_result",
          "data": {
            "text/plain": [
              "'krithikrithikrithikrithikrithikrithi'"
            ],
            "application/vnd.google.colaboratory.intrinsic+json": {
              "type": "string"
            }
          },
          "metadata": {},
          "execution_count": 6
        }
      ]
    },
    {
      "cell_type": "code",
      "source": [
        "print('krithika\\nsystem')"
      ],
      "metadata": {
        "colab": {
          "base_uri": "https://localhost:8080/"
        },
        "id": "W39M0h5W7PY9",
        "outputId": "9d344ab3-1dd0-44a4-cc12-2ebd5694e03b"
      },
      "execution_count": 7,
      "outputs": [
        {
          "output_type": "stream",
          "name": "stdout",
          "text": [
            "krithika\n",
            "system\n"
          ]
        }
      ]
    },
    {
      "cell_type": "code",
      "source": [
        "a = 10\n",
        "b = 5\n",
        "result = a + b\n",
        "print(\"Addition:\", result)"
      ],
      "metadata": {
        "colab": {
          "base_uri": "https://localhost:8080/"
        },
        "id": "PDrbyHql7lkQ",
        "outputId": "8220e2e8-e4da-4b0d-bfff-5e48db9fb6e6"
      },
      "execution_count": 8,
      "outputs": [
        {
          "output_type": "stream",
          "name": "stdout",
          "text": [
            "Addition: 15\n"
          ]
        }
      ]
    },
    {
      "cell_type": "code",
      "source": [
        "a = 15\n",
        "b = 7\n",
        "result = a - b\n",
        "print(\"Subtraction:\", result)"
      ],
      "metadata": {
        "colab": {
          "base_uri": "https://localhost:8080/"
        },
        "id": "cWvqg2La7yD5",
        "outputId": "7e7aab64-7d04-47ce-a798-3711933c941d"
      },
      "execution_count": 9,
      "outputs": [
        {
          "output_type": "stream",
          "name": "stdout",
          "text": [
            "Subtraction: 8\n"
          ]
        }
      ]
    },
    {
      "cell_type": "code",
      "source": [
        "print(\"krithika 'system'\")"
      ],
      "metadata": {
        "colab": {
          "base_uri": "https://localhost:8080/"
        },
        "id": "6NFPwZAp66zk",
        "outputId": "20436092-9f1d-426a-9077-45f71ed579f1"
      },
      "execution_count": 4,
      "outputs": [
        {
          "output_type": "stream",
          "name": "stdout",
          "text": [
            "krithika 'system'\n"
          ]
        }
      ]
    },
    {
      "cell_type": "code",
      "source": [
        "a = 4\n",
        "b = 6\n",
        "result = a * b\n",
        "print(\"Multiplication:\", result)"
      ],
      "metadata": {
        "colab": {
          "base_uri": "https://localhost:8080/"
        },
        "id": "hrKCeRw_81Gk",
        "outputId": "70cf3eda-57ec-474a-c7ec-48c93f25e69b"
      },
      "execution_count": 10,
      "outputs": [
        {
          "output_type": "stream",
          "name": "stdout",
          "text": [
            "Multiplication: 24\n"
          ]
        }
      ]
    },
    {
      "cell_type": "code",
      "source": [
        "a = 20\n",
        "b = 4\n",
        "result = a / b  # gives decimal value\n",
        "print(\"Division:\", result)"
      ],
      "metadata": {
        "colab": {
          "base_uri": "https://localhost:8080/"
        },
        "id": "98alAoEO86ws",
        "outputId": "4d4ee255-f540-41e0-cdc2-bd01c8c3a6a8"
      },
      "execution_count": 11,
      "outputs": [
        {
          "output_type": "stream",
          "name": "stdout",
          "text": [
            "Division: 5.0\n"
          ]
        }
      ]
    },
    {
      "cell_type": "code",
      "source": [
        "a = 20\n",
        "b = 3\n",
        "result = a // b  # gives only the whole number part\n",
        "print(\"Integer Division:\", result)"
      ],
      "metadata": {
        "colab": {
          "base_uri": "https://localhost:8080/"
        },
        "id": "5FyR-q4A87PE",
        "outputId": "f41b2d5a-d37a-400e-f7ab-97addce18c20"
      },
      "execution_count": 12,
      "outputs": [
        {
          "output_type": "stream",
          "name": "stdout",
          "text": [
            "Integer Division: 6\n"
          ]
        }
      ]
    },
    {
      "cell_type": "code",
      "source": [
        "a = 20\n",
        "b = 3\n",
        "result = a % b  # gives the remainder\n",
        "print(\"Remainder:\", result)"
      ],
      "metadata": {
        "colab": {
          "base_uri": "https://localhost:8080/"
        },
        "id": "KW3102OE87m6",
        "outputId": "6a133446-5a0e-41f1-c195-054001ea21cf"
      },
      "execution_count": 13,
      "outputs": [
        {
          "output_type": "stream",
          "name": "stdout",
          "text": [
            "Remainder: 2\n"
          ]
        }
      ]
    },
    {
      "cell_type": "code",
      "source": [
        "a = 2\n",
        "b = 3\n",
        "result = a ** b  # 2 to the power 3 = 8\n",
        "print(\"Power:\", result)"
      ],
      "metadata": {
        "colab": {
          "base_uri": "https://localhost:8080/"
        },
        "id": "cwYP5RxD877u",
        "outputId": "21c288ba-a94c-40b9-da57-8f1951b842f9"
      },
      "execution_count": 14,
      "outputs": [
        {
          "output_type": "stream",
          "name": "stdout",
          "text": [
            "Power: 8\n"
          ]
        }
      ]
    },
    {
      "cell_type": "code",
      "source": [
        "name = \"krithika\"\n",
        "age = 19\n",
        "print(\"My name is\", name, \"and I am\", age, \"years old.\")"
      ],
      "metadata": {
        "colab": {
          "base_uri": "https://localhost:8080/"
        },
        "id": "iyYFOoSw88Mf",
        "outputId": "f745abf8-36a3-4769-eff6-31e8391a46d1"
      },
      "execution_count": 16,
      "outputs": [
        {
          "output_type": "stream",
          "name": "stdout",
          "text": [
            "My name is krithika and I am 19 years old.\n"
          ]
        }
      ]
    },
    {
      "cell_type": "code",
      "source": [
        "name = \"Alice\"\n",
        "\n",
        "# Accessing individual characters using indexing\n",
        "print(name[0])  # First character\n",
        "print(name[1])  # Second character\n",
        "print(name[-3]) # Last character\n"
      ],
      "metadata": {
        "colab": {
          "base_uri": "https://localhost:8080/"
        },
        "id": "yunkiIFf88ZY",
        "outputId": "4a0e0347-92c2-45ad-edbb-b493e6101cff"
      },
      "execution_count": 17,
      "outputs": [
        {
          "output_type": "stream",
          "name": "stdout",
          "text": [
            "A\n",
            "l\n",
            "i\n"
          ]
        }
      ]
    },
    {
      "cell_type": "code",
      "source": [
        "name = \"Alice\"\n",
        "\n",
        "# Slicing means cutting a part of the string\n",
        "print(name[0:3])  # From index 0 to 2 (not including 3)\n",
        "print(name[:4])   # From start to index 3\n",
        "print(name[2:])   # From index 2 to end"
      ],
      "metadata": {
        "colab": {
          "base_uri": "https://localhost:8080/"
        },
        "id": "48-qSFZ488pu",
        "outputId": "29a7da91-0ab8-462f-f161-2d25158a2793"
      },
      "execution_count": 18,
      "outputs": [
        {
          "output_type": "stream",
          "name": "stdout",
          "text": [
            "Ali\n",
            "Alic\n",
            "ice\n"
          ]
        }
      ]
    },
    {
      "cell_type": "code",
      "source": [
        "first_name = \"Alice\"\n",
        "last_name = \"Smith\"\n",
        "\n",
        "# Combine with + operator\n",
        "full_name = first_name + \" \" + last_name\n",
        "print(full_name)"
      ],
      "metadata": {
        "colab": {
          "base_uri": "https://localhost:8080/"
        },
        "id": "ZWsgaR029MRr",
        "outputId": "a558c6b7-9238-450f-fbe5-632c62e03c8c"
      },
      "execution_count": 19,
      "outputs": [
        {
          "output_type": "stream",
          "name": "stdout",
          "text": [
            "Alice Smith\n"
          ]
        }
      ]
    },
    {
      "cell_type": "code",
      "source": [
        "message = \"Hello, world!\"\n",
        "print(len(message))"
      ],
      "metadata": {
        "colab": {
          "base_uri": "https://localhost:8080/"
        },
        "id": "eTvx6j6l9M3f",
        "outputId": "695c22dd-9e9f-42bf-8da6-fb4d62734edc"
      },
      "execution_count": 20,
      "outputs": [
        {
          "output_type": "stream",
          "name": "stdout",
          "text": [
            "13\n"
          ]
        }
      ]
    },
    {
      "cell_type": "code",
      "source": [
        "text = \"Python\"\n",
        "\n",
        "print(text.upper())  # ALL CAPS\n",
        "print(text.lower())  # all lowercase"
      ],
      "metadata": {
        "colab": {
          "base_uri": "https://localhost:8080/"
        },
        "id": "rROJThco9ucY",
        "outputId": "71c7ed2a-f9c5-4f8c-e4db-d70e08a9dd0a"
      },
      "execution_count": 21,
      "outputs": [
        {
          "output_type": "stream",
          "name": "stdout",
          "text": [
            "PYTHON\n",
            "python\n"
          ]
        }
      ]
    },
    {
      "cell_type": "code",
      "source": [
        "message = \"I like apples\"\n",
        "new_message = message.replace(\"apples\", \"mangoes\")\n",
        "print(new_message)"
      ],
      "metadata": {
        "colab": {
          "base_uri": "https://localhost:8080/"
        },
        "id": "9gc31MVU9uzO",
        "outputId": "6989259a-2f47-4c5e-cecc-65f86babd8db"
      },
      "execution_count": 22,
      "outputs": [
        {
          "output_type": "stream",
          "name": "stdout",
          "text": [
            "I like mangoes\n"
          ]
        }
      ]
    },
    {
      "cell_type": "code",
      "source": [
        "text = \"   Hello world!   \"\n",
        "cleaned = text.strip()\n",
        "print(\"Before:\", text)\n",
        "print(\"After:\", cleaned)"
      ],
      "metadata": {
        "colab": {
          "base_uri": "https://localhost:8080/"
        },
        "id": "8nLsc3ld9vFi",
        "outputId": "d579d2a8-cc87-43c3-a86c-93427f9e6276"
      },
      "execution_count": 23,
      "outputs": [
        {
          "output_type": "stream",
          "name": "stdout",
          "text": [
            "Before:    Hello world!   \n",
            "After: Hello world!\n"
          ]
        }
      ]
    },
    {
      "cell_type": "code",
      "source": [
        "name = \"Alice\"\n",
        "age = 10\n",
        "\n",
        "# Convert number to string before combining\n",
        "message = name + \" is \" + str(age) + \" years old.\"\n",
        "print(message)"
      ],
      "metadata": {
        "colab": {
          "base_uri": "https://localhost:8080/"
        },
        "id": "JLBce0Yh9va1",
        "outputId": "e7164e8e-e4ff-4a2c-9d41-f8666fccc051"
      },
      "execution_count": 24,
      "outputs": [
        {
          "output_type": "stream",
          "name": "stdout",
          "text": [
            "Alice is 10 years old.\n"
          ]
        }
      ]
    },
    {
      "cell_type": "code",
      "source": [
        "# List of numbers\n",
        "numbers = [10, 20, 30, 40]\n",
        "\n",
        "# List of strings\n",
        "fruits = [\"apple\", \"banana\", \"mango\"]\n",
        "\n",
        "# Mixed data types\n",
        "mixed = [\"Alice\", 25, True]"
      ],
      "metadata": {
        "id": "BY5IK5sM9vtv"
      },
      "execution_count": 25,
      "outputs": []
    },
    {
      "cell_type": "code",
      "source": [
        "fruits = [\"apple\", \"banana\", \"mango\"]\n",
        "\n",
        "print(fruits[0])  # First item\n",
        "print(fruits[1])  # Second item\n",
        "print(fruits[2]) # Last item"
      ],
      "metadata": {
        "colab": {
          "base_uri": "https://localhost:8080/"
        },
        "id": "_-9g94C3969R",
        "outputId": "1a837ac1-fbde-4f3d-fbf3-6ef7e928f173"
      },
      "execution_count": 26,
      "outputs": [
        {
          "output_type": "stream",
          "name": "stdout",
          "text": [
            "apple\n",
            "banana\n",
            "mango\n"
          ]
        }
      ]
    },
    {
      "cell_type": "code",
      "source": [
        "fruits = [\"apple\", \"banana\", \"mango\", \"orange\", \"grape\"]\n",
        "\n",
        "print(fruits[1:4])  # banana to orange\n",
        "print(fruits[:3])   # apple to mango\n",
        "print(fruits[2:])   # mango to end"
      ],
      "metadata": {
        "colab": {
          "base_uri": "https://localhost:8080/"
        },
        "id": "XWTBWBTq97ce",
        "outputId": "d20eef4b-90f4-4a27-8976-92135b41b299"
      },
      "execution_count": 27,
      "outputs": [
        {
          "output_type": "stream",
          "name": "stdout",
          "text": [
            "['banana', 'mango', 'orange']\n",
            "['apple', 'banana', 'mango']\n",
            "['mango', 'orange', 'grape']\n"
          ]
        }
      ]
    },
    {
      "cell_type": "code",
      "source": [
        "fruits = [\"apple\", \"banana\"]\n",
        "fruits.append(\"mango\")\n",
        "print(fruits)"
      ],
      "metadata": {
        "colab": {
          "base_uri": "https://localhost:8080/"
        },
        "id": "khoafCoG-Lmf",
        "outputId": "96d91777-ebf3-4e15-f42d-43569394f6dc"
      },
      "execution_count": 28,
      "outputs": [
        {
          "output_type": "stream",
          "name": "stdout",
          "text": [
            "['apple', 'banana', 'mango']\n"
          ]
        }
      ]
    },
    {
      "cell_type": "code",
      "source": [
        "fruits = [\"apple\", \"banana\"]\n",
        "fruits.insert(1, \"grape\")  # Add at index 1\n",
        "print(fruits)"
      ],
      "metadata": {
        "colab": {
          "base_uri": "https://localhost:8080/"
        },
        "id": "R8n6dFif-L9k",
        "outputId": "32526b8c-07c3-4726-8b64-c5a0418e53f2"
      },
      "execution_count": 29,
      "outputs": [
        {
          "output_type": "stream",
          "name": "stdout",
          "text": [
            "['apple', 'grape', 'banana']\n"
          ]
        }
      ]
    },
    {
      "cell_type": "code",
      "source": [
        "fruits = [\"apple\", \"banana\", \"apple\"]\n",
        "fruits.remove(\"apple\")  # Removes first 'apple'\n",
        "print(fruits)"
      ],
      "metadata": {
        "colab": {
          "base_uri": "https://localhost:8080/"
        },
        "id": "Qvt1-aKR-MOc",
        "outputId": "3c314694-e318-4417-c6ab-935ebb027c93"
      },
      "execution_count": 30,
      "outputs": [
        {
          "output_type": "stream",
          "name": "stdout",
          "text": [
            "['banana', 'apple']\n"
          ]
        }
      ]
    },
    {
      "cell_type": "code",
      "source": [
        "fruits = [\"apple\", \"banana\", \"mango\"]\n",
        "fruits.pop()\n",
        "print(fruits)"
      ],
      "metadata": {
        "colab": {
          "base_uri": "https://localhost:8080/"
        },
        "id": "f0jHtt0B-Me4",
        "outputId": "6a09e0e6-a2ff-4a70-bad9-f44962eb217c"
      },
      "execution_count": 31,
      "outputs": [
        {
          "output_type": "stream",
          "name": "stdout",
          "text": [
            "['apple', 'banana']\n"
          ]
        }
      ]
    },
    {
      "cell_type": "code",
      "source": [
        "fruits = [\"apple\", \"banana\"]\n",
        "fruits.clear()\n",
        "print(fruits)  # Output: []"
      ],
      "metadata": {
        "colab": {
          "base_uri": "https://localhost:8080/"
        },
        "id": "G_e_1oYS-Mvm",
        "outputId": "51aa44d9-a54d-4db2-a2f9-0328fd88fd9d"
      },
      "execution_count": 32,
      "outputs": [
        {
          "output_type": "stream",
          "name": "stdout",
          "text": [
            "[]\n"
          ]
        }
      ]
    },
    {
      "cell_type": "code",
      "source": [
        "numbers = [5, 2, 8, 1]\n",
        "numbers.sort()\n",
        "print(numbers)"
      ],
      "metadata": {
        "colab": {
          "base_uri": "https://localhost:8080/"
        },
        "id": "A3CYSIkU_A4r",
        "outputId": "2e676074-0a6f-46c8-f399-41bf0a52e194"
      },
      "execution_count": 33,
      "outputs": [
        {
          "output_type": "stream",
          "name": "stdout",
          "text": [
            "[1, 2, 5, 8]\n"
          ]
        }
      ]
    },
    {
      "cell_type": "code",
      "source": [
        "fruits = [\"apple\", \"banana\", \"mango\"]\n",
        "fruits.reverse()\n",
        "print(fruits)"
      ],
      "metadata": {
        "colab": {
          "base_uri": "https://localhost:8080/"
        },
        "id": "BfIoVLgK_Jha",
        "outputId": "6bb1149e-bb8c-4d98-d469-d0e6806acb4c"
      },
      "execution_count": 34,
      "outputs": [
        {
          "output_type": "stream",
          "name": "stdout",
          "text": [
            "['mango', 'banana', 'apple']\n"
          ]
        }
      ]
    },
    {
      "cell_type": "code",
      "source": [
        "fruits = [\"apple\", \"banana\", \"mango\"]\n",
        "print(len(fruits))"
      ],
      "metadata": {
        "colab": {
          "base_uri": "https://localhost:8080/"
        },
        "id": "KbKuZQbc_Pe3",
        "outputId": "9ab58090-b303-4cb0-90c0-04fffcdf8523"
      },
      "execution_count": 35,
      "outputs": [
        {
          "output_type": "stream",
          "name": "stdout",
          "text": [
            "3\n"
          ]
        }
      ]
    },
    {
      "cell_type": "code",
      "source": [
        "numbers = [5, 12, 3, 8]\n",
        "print(max(numbers))  # 12\n",
        "print(min(numbers))  # 3\n",
        "print(sum(numbers))  # 28"
      ],
      "metadata": {
        "colab": {
          "base_uri": "https://localhost:8080/"
        },
        "id": "bg8eosac_QC7",
        "outputId": "21a94e47-a83d-47ab-ba72-c3deabbcc979"
      },
      "execution_count": 36,
      "outputs": [
        {
          "output_type": "stream",
          "name": "stdout",
          "text": [
            "12\n",
            "3\n",
            "28\n"
          ]
        }
      ]
    },
    {
      "cell_type": "code",
      "source": [
        "fruits = [\"apple\", \"banana\"]\n",
        "print(\"apple\" in fruits)   # True\n",
        "print(\"grape\" in fruits)   # False"
      ],
      "metadata": {
        "colab": {
          "base_uri": "https://localhost:8080/"
        },
        "id": "l1IFnai2_UQz",
        "outputId": "c91d645c-2779-43ff-e199-903f097769b1"
      },
      "execution_count": 37,
      "outputs": [
        {
          "output_type": "stream",
          "name": "stdout",
          "text": [
            "True\n",
            "False\n"
          ]
        }
      ]
    },
    {
      "cell_type": "code",
      "source": [
        "my_tuple = (\"apple\", \"banana\", \"cherry\")\n",
        "print(my_tuple)"
      ],
      "metadata": {
        "colab": {
          "base_uri": "https://localhost:8080/"
        },
        "id": "LGuT2iw___Oh",
        "outputId": "527c0f73-e803-486a-9d6e-a01dee49e821"
      },
      "execution_count": 39,
      "outputs": [
        {
          "output_type": "stream",
          "name": "stdout",
          "text": [
            "('apple', 'banana', 'cherry')\n"
          ]
        }
      ]
    },
    {
      "cell_type": "code",
      "source": [
        "my_tuple = (\"apple\", \"banana\", \"cherry\")\n",
        "\n",
        "# Indexing\n",
        "print(my_tuple[0])  # apple\n",
        "print(my_tuple[-1]) # cherry\n",
        "\n",
        "# Slicing\n",
        "print(my_tuple[0:2])  # ('apple', 'banana')"
      ],
      "metadata": {
        "colab": {
          "base_uri": "https://localhost:8080/"
        },
        "id": "dmNWZiTZAYoh",
        "outputId": "2dab1061-8b89-40fb-b506-0f8f47893060"
      },
      "execution_count": 40,
      "outputs": [
        {
          "output_type": "stream",
          "name": "stdout",
          "text": [
            "apple\n",
            "cherry\n",
            "('apple', 'banana')\n"
          ]
        }
      ]
    },
    {
      "cell_type": "code",
      "source": [
        "my_tuple = (\"apple\", \"banana\", \"apple\", \"cherry\")\n",
        "\n",
        "# count() – how many times a value appears\n",
        "print(my_tuple.count(\"apple\"))  # 2\n",
        "\n",
        "# index() – find the position of a value\n",
        "print(my_tuple.index(\"cherry\"))  # 3"
      ],
      "metadata": {
        "colab": {
          "base_uri": "https://localhost:8080/"
        },
        "id": "QTmCbquiAZFz",
        "outputId": "600ac4ad-98d4-4366-c30c-7cbf343d4cc4"
      },
      "execution_count": 41,
      "outputs": [
        {
          "output_type": "stream",
          "name": "stdout",
          "text": [
            "2\n",
            "3\n"
          ]
        }
      ]
    },
    {
      "cell_type": "code",
      "source": [
        "my_set = {\"apple\", \"banana\", \"cherry\"}\n",
        "print(my_set)"
      ],
      "metadata": {
        "colab": {
          "base_uri": "https://localhost:8080/"
        },
        "id": "c3_a3S-NAZmB",
        "outputId": "c713e9a5-3e9d-4e08-f5b7-333ba66f597b"
      },
      "execution_count": 42,
      "outputs": [
        {
          "output_type": "stream",
          "name": "stdout",
          "text": [
            "{'cherry', 'banana', 'apple'}\n"
          ]
        }
      ]
    },
    {
      "cell_type": "code",
      "source": [
        "dup_set = {\"apple\", \"banana\", \"apple\"}\n",
        "print(dup_set)  # Output: {'apple', 'banana'}"
      ],
      "metadata": {
        "colab": {
          "base_uri": "https://localhost:8080/"
        },
        "id": "Xqy1pL05AZ4E",
        "outputId": "315b94cd-dd2b-46f9-fe77-0fdb8840c38b"
      },
      "execution_count": 43,
      "outputs": [
        {
          "output_type": "stream",
          "name": "stdout",
          "text": [
            "{'banana', 'apple'}\n"
          ]
        }
      ]
    },
    {
      "cell_type": "code",
      "source": [
        "fruits = {\"apple\", \"banana\", \"grapes\"}\n",
        "\n",
        "fruits.clear()\n",
        "print(fruits)  # Output: set()"
      ],
      "metadata": {
        "colab": {
          "base_uri": "https://localhost:8080/"
        },
        "id": "sAEJh0koAaIT",
        "outputId": "229143e4-1b43-4122-a2c7-2eab84123187"
      },
      "execution_count": 44,
      "outputs": [
        {
          "output_type": "stream",
          "name": "stdout",
          "text": [
            "set()\n"
          ]
        }
      ]
    },
    {
      "cell_type": "code",
      "source": [
        "set1 = {\"apple\", \"banana\"}\n",
        "set2 = {\"mango\", \"banana\"}\n",
        "\n",
        "combined = set2.union(set1)\n",
        "print(combined)  # {'apple', 'banana', 'mango'}"
      ],
      "metadata": {
        "colab": {
          "base_uri": "https://localhost:8080/"
        },
        "id": "w67VM6mJAaaT",
        "outputId": "51552a53-044e-44b0-e291-aaa65e4ca16b"
      },
      "execution_count": 45,
      "outputs": [
        {
          "output_type": "stream",
          "name": "stdout",
          "text": [
            "{'banana', 'apple', 'mango'}\n"
          ]
        }
      ]
    },
    {
      "cell_type": "code",
      "source": [
        "set1 = {\"apple\", \"banana\"}\n",
        "set2 = {\"mango\", \"banana\"}\n",
        "common = set1.intersection(set2)\n",
        "print(common)  # {'banana'}"
      ],
      "metadata": {
        "colab": {
          "base_uri": "https://localhost:8080/"
        },
        "id": "H4AeRVOfAvJQ",
        "outputId": "93a344ae-fb72-49a5-e7fa-8e318ffe247a"
      },
      "execution_count": 46,
      "outputs": [
        {
          "output_type": "stream",
          "name": "stdout",
          "text": [
            "{'banana'}\n"
          ]
        }
      ]
    },
    {
      "cell_type": "code",
      "source": [
        "student = {\n",
        "    \"name\": \"Alice\",\n",
        "    \"age\": 21,\n",
        "    \"grade\": \"A\"\n",
        "}\n",
        "print(student)"
      ],
      "metadata": {
        "colab": {
          "base_uri": "https://localhost:8080/"
        },
        "id": "YkKEZifxAvtl",
        "outputId": "a01bccc3-1164-4ca3-a567-b223b548798f"
      },
      "execution_count": 47,
      "outputs": [
        {
          "output_type": "stream",
          "name": "stdout",
          "text": [
            "{'name': 'Alice', 'age': 21, 'grade': 'A'}\n"
          ]
        }
      ]
    },
    {
      "cell_type": "code",
      "source": [
        "print(student[\"name\"])   # Alice\n",
        "print(student[\"age\"])    # 21"
      ],
      "metadata": {
        "colab": {
          "base_uri": "https://localhost:8080/"
        },
        "id": "98iKPMkQA7kj",
        "outputId": "efd33fe2-b55a-40ca-eb6d-f491a7fbf55e"
      },
      "execution_count": 48,
      "outputs": [
        {
          "output_type": "stream",
          "name": "stdout",
          "text": [
            "Alice\n",
            "21\n"
          ]
        }
      ]
    },
    {
      "cell_type": "code",
      "source": [
        "print(student.get(\"grade\"))     # A\n",
        "print(student.get(\"marks\"))     # None (no error)\n",
        "print(student.get(\"marks\", 10))  # 0 (default value)"
      ],
      "metadata": {
        "colab": {
          "base_uri": "https://localhost:8080/"
        },
        "id": "FYvGMMHsA79f",
        "outputId": "434e5955-3801-4c84-bd06-c9992bf85e68"
      },
      "execution_count": 49,
      "outputs": [
        {
          "output_type": "stream",
          "name": "stdout",
          "text": [
            "A\n",
            "None\n",
            "10\n"
          ]
        }
      ]
    },
    {
      "cell_type": "code",
      "source": [
        "student[\"marks\"] = 85           # Add new key\n",
        "student[\"grade\"] = \"A+\"         # Update value\n",
        "print(student)"
      ],
      "metadata": {
        "colab": {
          "base_uri": "https://localhost:8080/"
        },
        "id": "GuqfP8DaA-7a",
        "outputId": "9f3d645d-9aff-45df-c851-45d18dc85901"
      },
      "execution_count": 50,
      "outputs": [
        {
          "output_type": "stream",
          "name": "stdout",
          "text": [
            "{'name': 'Alice', 'age': 21, 'grade': 'A+', 'marks': 85}\n"
          ]
        }
      ]
    },
    {
      "cell_type": "code",
      "source": [
        "student.pop(\"age\")              # Removes the key 'age'\n",
        "print(student)"
      ],
      "metadata": {
        "colab": {
          "base_uri": "https://localhost:8080/"
        },
        "id": "XxeGOf6VBagb",
        "outputId": "8fe7479f-04f6-4e9b-f795-3312977d20af"
      },
      "execution_count": 51,
      "outputs": [
        {
          "output_type": "stream",
          "name": "stdout",
          "text": [
            "{'name': 'Alice', 'grade': 'A+', 'marks': 85}\n"
          ]
        }
      ]
    },
    {
      "cell_type": "code",
      "source": [
        "for key in student:\n",
        "    print(key, \":\", student[key])"
      ],
      "metadata": {
        "colab": {
          "base_uri": "https://localhost:8080/"
        },
        "id": "dUDfQ0SiBa4M",
        "outputId": "0702483f-ce66-4b12-da98-567dd72d49df"
      },
      "execution_count": 52,
      "outputs": [
        {
          "output_type": "stream",
          "name": "stdout",
          "text": [
            "name : Alice\n",
            "grade : A+\n",
            "marks : 85\n"
          ]
        }
      ]
    },
    {
      "cell_type": "code",
      "source": [
        "for key, value in student.items():\n",
        "    print(key, \"=>\", value)"
      ],
      "metadata": {
        "colab": {
          "base_uri": "https://localhost:8080/"
        },
        "id": "u-pW8I6EBbY8",
        "outputId": "26a27703-dc71-4df7-ea98-c8188355b61e"
      },
      "execution_count": 53,
      "outputs": [
        {
          "output_type": "stream",
          "name": "stdout",
          "text": [
            "name => Alice\n",
            "grade => A+\n",
            "marks => 85\n"
          ]
        }
      ]
    },
    {
      "cell_type": "code",
      "source": [
        "keys = [\"name\", \"age\", \"grade\"]\n",
        "values = [\"Bob\", 22, \"B\"]\n",
        "\n",
        "student2 = dict(zip(keys, values))\n",
        "print(student2)"
      ],
      "metadata": {
        "colab": {
          "base_uri": "https://localhost:8080/"
        },
        "id": "BErBhgX-Bbw9",
        "outputId": "342e6bf2-3212-47dd-d4b4-77a8ef9bc0b8"
      },
      "execution_count": 54,
      "outputs": [
        {
          "output_type": "stream",
          "name": "stdout",
          "text": [
            "{'name': 'Bob', 'age': 22, 'grade': 'B'}\n"
          ]
        }
      ]
    },
    {
      "cell_type": "code",
      "source": [
        "classroom = {\n",
        "    \"student1\": {\"name\": \"tom\", \"marks\": 90},\n",
        "    \"student2\": {\"name\": \"Bob\", \"marks\": 85}\n",
        "}\n",
        "\n",
        "print(classroom[\"student1\"])                # {'name': 'Alice', 'marks': 90}\n",
        "print(classroom[\"student1\"][\"marks\"])       # 90\n"
      ],
      "metadata": {
        "colab": {
          "base_uri": "https://localhost:8080/"
        },
        "id": "_CXlMhr9BzRc",
        "outputId": "1ffdc558-99fc-4111-900f-730793ddbb91"
      },
      "execution_count": 55,
      "outputs": [
        {
          "output_type": "stream",
          "name": "stdout",
          "text": [
            "{'name': 'tom', 'marks': 90}\n",
            "90\n"
          ]
        }
      ]
    },
    {
      "cell_type": "code",
      "source": [
        "x = 5\n",
        "print(type(x))  # Output: <class 'int'>"
      ],
      "metadata": {
        "colab": {
          "base_uri": "https://localhost:8080/"
        },
        "id": "SszNzr1CB9WH",
        "outputId": "b62870d7-0bcd-42db-f88e-fc0df7803ed0"
      },
      "execution_count": 56,
      "outputs": [
        {
          "output_type": "stream",
          "name": "stdout",
          "text": [
            "<class 'int'>\n"
          ]
        }
      ]
    },
    {
      "cell_type": "code",
      "source": [
        "b = 3.14\n",
        "print(type(b))  # <class 'float'>"
      ],
      "metadata": {
        "colab": {
          "base_uri": "https://localhost:8080/"
        },
        "id": "W7kJFoNgB9xV",
        "outputId": "0fa20fa3-7000-44b5-f953-609694dd33b6"
      },
      "execution_count": 57,
      "outputs": [
        {
          "output_type": "stream",
          "name": "stdout",
          "text": [
            "<class 'float'>\n"
          ]
        }
      ]
    },
    {
      "cell_type": "code",
      "source": [
        "c = 3 + 2j\n",
        "print(type(c))"
      ],
      "metadata": {
        "colab": {
          "base_uri": "https://localhost:8080/"
        },
        "id": "70BYq6YfB-Gx",
        "outputId": "5f797324-dd4a-443a-e1a2-d4b92d4edc81"
      },
      "execution_count": 58,
      "outputs": [
        {
          "output_type": "stream",
          "name": "stdout",
          "text": [
            "<class 'complex'>\n"
          ]
        }
      ]
    },
    {
      "cell_type": "code",
      "source": [
        "text = \"Hello World\"\n",
        "print(type(text))   # <class 'str'>"
      ],
      "metadata": {
        "colab": {
          "base_uri": "https://localhost:8080/"
        },
        "id": "MU-mg_HMB-gp",
        "outputId": "439ea0d5-0634-4378-b8bb-a67038759f6e"
      },
      "execution_count": 59,
      "outputs": [
        {
          "output_type": "stream",
          "name": "stdout",
          "text": [
            "<class 'str'>\n"
          ]
        }
      ]
    },
    {
      "cell_type": "code",
      "source": [
        "is_active = True\n",
        "print(type(is_active))  # <class 'bool'>"
      ],
      "metadata": {
        "colab": {
          "base_uri": "https://localhost:8080/"
        },
        "id": "jRHONeOnCN7Y",
        "outputId": "3978b936-4ffd-4c25-aa55-2f768d07ab00"
      },
      "execution_count": 60,
      "outputs": [
        {
          "output_type": "stream",
          "name": "stdout",
          "text": [
            "<class 'bool'>\n"
          ]
        }
      ]
    },
    {
      "cell_type": "code",
      "source": [
        "fruits = [\"apple\", \"banana\", \"mango\"]\n",
        "print(type(fruits))  # <class 'list'>"
      ],
      "metadata": {
        "colab": {
          "base_uri": "https://localhost:8080/"
        },
        "id": "khIKuKwuCOW4",
        "outputId": "58e5a563-8c6b-412e-c1f9-62460be24576"
      },
      "execution_count": 61,
      "outputs": [
        {
          "output_type": "stream",
          "name": "stdout",
          "text": [
            "<class 'list'>\n"
          ]
        }
      ]
    },
    {
      "cell_type": "code",
      "source": [
        "coordinates = (10, 20)\n",
        "print(type(coordinates))  # <class 'tuple'>"
      ],
      "metadata": {
        "colab": {
          "base_uri": "https://localhost:8080/"
        },
        "id": "179iZ6QJCOsW",
        "outputId": "9cdf1eb9-43d3-4c3c-ffb1-ef8c1baf3fb5"
      },
      "execution_count": 62,
      "outputs": [
        {
          "output_type": "stream",
          "name": "stdout",
          "text": [
            "<class 'tuple'>\n"
          ]
        }
      ]
    },
    {
      "cell_type": "code",
      "source": [
        "numbers = range(5)\n",
        "print(list(numbers))  # [0, 1, 2, 3, 4]"
      ],
      "metadata": {
        "colab": {
          "base_uri": "https://localhost:8080/"
        },
        "id": "7w8nAjPDCPcV",
        "outputId": "f4e7b4b2-3a30-45a5-87b0-a60ddb71a8c1"
      },
      "execution_count": 63,
      "outputs": [
        {
          "output_type": "stream",
          "name": "stdout",
          "text": [
            "[0, 1, 2, 3, 4]\n"
          ]
        }
      ]
    },
    {
      "cell_type": "code",
      "source": [
        "colors = {\"red\", \"blue\", \"green\", \"red\"}\n",
        "print(colors)  # {'red', 'blue', 'green'}"
      ],
      "metadata": {
        "colab": {
          "base_uri": "https://localhost:8080/"
        },
        "id": "kgjyS_OWCQKp",
        "outputId": "cd0dcb55-13bf-4767-c208-88fe95968526"
      },
      "execution_count": 64,
      "outputs": [
        {
          "output_type": "stream",
          "name": "stdout",
          "text": [
            "{'blue', 'red', 'green'}\n"
          ]
        }
      ]
    },
    {
      "cell_type": "code",
      "source": [
        "person = {\"name\": \"Alice\", \"age\": 22}\n",
        "print(person[\"name\"])  # Alice\n",
        "print(type(person))"
      ],
      "metadata": {
        "colab": {
          "base_uri": "https://localhost:8080/"
        },
        "id": "OUeZ67F5CQhw",
        "outputId": "f775dd05-c32e-44bd-c34d-d8a650d75adf"
      },
      "execution_count": 65,
      "outputs": [
        {
          "output_type": "stream",
          "name": "stdout",
          "text": [
            "Alice\n",
            "<class 'dict'>\n"
          ]
        }
      ]
    },
    {
      "cell_type": "code",
      "source": [
        "x = 5\n",
        "y = float(x)         # 5.0\n",
        "z = str(x)           # \"5\"\n",
        "a = int(\"10\")        # 10\n",
        "b = list(\"abc\")      # ['a', 'b', 'c']"
      ],
      "metadata": {
        "id": "XVcy_BWuCQ3o"
      },
      "execution_count": 66,
      "outputs": []
    },
    {
      "cell_type": "code",
      "source": [
        "a = 10\n",
        "b = str(a)\n",
        "print(b, type(b))    # \"10\", <class 'str'>\n",
        "\n",
        "c = \"123\"\n",
        "d = int(c)\n",
        "print(d, type(d))"
      ],
      "metadata": {
        "colab": {
          "base_uri": "https://localhost:8080/"
        },
        "id": "fxCsJGmVCRlW",
        "outputId": "cc8ba4b1-68cb-4135-f199-16e15eefbe95"
      },
      "execution_count": 67,
      "outputs": [
        {
          "output_type": "stream",
          "name": "stdout",
          "text": [
            "10 <class 'str'>\n",
            "123 <class 'int'>\n"
          ]
        }
      ]
    },
    {
      "cell_type": "code",
      "source": [
        "a = 10\n",
        "b = 3\n",
        "\n",
        "print(\"Addition:\", a + b)        # 13\n",
        "print(\"Subtraction:\", a - b)     # 7\n",
        "print(\"Multiplication:\", a * b)  # 30\n",
        "print(\"Division:\", a / b)        # 3.333...\n",
        "print(\"Floor Division:\", a // b) # 3\n",
        "print(\"Modulus:\", a % b)         # 1\n",
        "print(\"Power:\", a ** b)"
      ],
      "metadata": {
        "colab": {
          "base_uri": "https://localhost:8080/"
        },
        "id": "MkrNNXE0CSbL",
        "outputId": "787366f2-45a9-45e5-f469-5b17e5cafeaf"
      },
      "execution_count": 68,
      "outputs": [
        {
          "output_type": "stream",
          "name": "stdout",
          "text": [
            "Addition: 13\n",
            "Subtraction: 7\n",
            "Multiplication: 30\n",
            "Division: 3.3333333333333335\n",
            "Floor Division: 3\n",
            "Modulus: 1\n",
            "Power: 1000\n"
          ]
        }
      ]
    },
    {
      "cell_type": "code",
      "source": [
        "x = 5           # Simple assignment\n",
        "x += 3          # x = x + 3 => 8\n",
        "x *= 2          # x = x * 2 => 16\n",
        "x -= 4          # x = x - 4 => 12\n",
        "print(x)        # Output: 12\n",
        "\n",
        "# Assign multiple variables at once\n",
        "a, b = 10, 20\n",
        "print(a, b)     # 10 20"
      ],
      "metadata": {
        "colab": {
          "base_uri": "https://localhost:8080/"
        },
        "id": "9OqaWtHOC_vN",
        "outputId": "14fec53c-9bd5-4ac6-dd86-922943c03bd9"
      },
      "execution_count": 69,
      "outputs": [
        {
          "output_type": "stream",
          "name": "stdout",
          "text": [
            "12\n",
            "10 20\n"
          ]
        }
      ]
    },
    {
      "cell_type": "code",
      "source": [
        "a = 5\n",
        "b = 7\n",
        "\n",
        "print(a == b)  # False\n",
        "print(a != b)  # True\n",
        "print(a > b)   # False\n",
        "print(a < b)   # True\n",
        "print(a >= 5)  # True\n",
        "print(a <= 3)  # False"
      ],
      "metadata": {
        "colab": {
          "base_uri": "https://localhost:8080/"
        },
        "id": "lD2CG21pDFKd",
        "outputId": "080c4af8-dfd4-4625-c0ad-74c020a0a10c"
      },
      "execution_count": 70,
      "outputs": [
        {
          "output_type": "stream",
          "name": "stdout",
          "text": [
            "False\n",
            "True\n",
            "False\n",
            "True\n",
            "True\n",
            "False\n"
          ]
        }
      ]
    },
    {
      "cell_type": "code",
      "source": [
        "n = 5\n",
        "print(-n)     # -5\n",
        "print(+n)     # 5\n",
        "\n",
        "flag = True\n",
        "print(not flag)   # False (negates the value)"
      ],
      "metadata": {
        "colab": {
          "base_uri": "https://localhost:8080/"
        },
        "id": "N4tnvcCQDK_m",
        "outputId": "bb61e6b7-b3ae-45b5-8fa1-933e0965563d"
      },
      "execution_count": 71,
      "outputs": [
        {
          "output_type": "stream",
          "name": "stdout",
          "text": [
            "-5\n",
            "5\n",
            "False\n"
          ]
        }
      ]
    },
    {
      "cell_type": "code",
      "source": [
        "a = 10\n",
        "b = 20\n",
        "\n",
        "# and operator\n",
        "print(a > 5 and b > 15)   # True (both True)\n",
        "print(a > 15 and b > 15)  # False\n",
        "\n",
        "# or operator\n",
        "print(a > 15 or b > 15)   # True (one is True)\n",
        "print(a > 5 or b < 15)    # False (both False)\n",
        "\n",
        "# not operator\n",
        "x = True\n",
        "y = False\n",
        "print(not x)  # False\n",
        "print(not y)  # True"
      ],
      "metadata": {
        "colab": {
          "base_uri": "https://localhost:8080/"
        },
        "id": "AH4TLGcHDQq_",
        "outputId": "9cf344a6-9e8d-4f01-bdcf-c294faf09cdb"
      },
      "execution_count": 72,
      "outputs": [
        {
          "output_type": "stream",
          "name": "stdout",
          "text": [
            "True\n",
            "False\n",
            "True\n",
            "True\n",
            "False\n",
            "True\n"
          ]
        }
      ]
    },
    {
      "cell_type": "code",
      "source": [
        "number = 345\n",
        "print(\"Decimal number:\", number)"
      ],
      "metadata": {
        "colab": {
          "base_uri": "https://localhost:8080/"
        },
        "id": "ygw-S11fDWyb",
        "outputId": "ba5dd6cf-70b0-4820-f3a6-88e0ddf5eef1"
      },
      "execution_count": 73,
      "outputs": [
        {
          "output_type": "stream",
          "name": "stdout",
          "text": [
            "Decimal number: 345\n"
          ]
        }
      ]
    },
    {
      "cell_type": "code",
      "source": [
        "# Decimal to Binary\n",
        "decimal = 51\n",
        "binary = bin(decimal)\n",
        "print(\"Binary of 51 is:\", binary)  # Output: 0b110011\n",
        "\n",
        "# Binary to Decimal\n",
        "binary_value = \"0b110011\"\n",
        "decimal_back = int(binary_value, 2)\n",
        "print(\"Binary '0b110011' to decimal:\", decimal_back)"
      ],
      "metadata": {
        "colab": {
          "base_uri": "https://localhost:8080/"
        },
        "id": "iduv0Gh3DX0b",
        "outputId": "2d41211b-1633-4731-85bf-b5eedb065886"
      },
      "execution_count": 74,
      "outputs": [
        {
          "output_type": "stream",
          "name": "stdout",
          "text": [
            "Binary of 51 is: 0b110011\n",
            "Binary '0b110011' to decimal: 51\n"
          ]
        }
      ]
    },
    {
      "cell_type": "code",
      "source": [
        "# Decimal to Octal\n",
        "decimal = 51\n",
        "octal = oct(decimal)\n",
        "print(\"Octal of 51 is:\", octal)  # Output: 0o63\n",
        "\n",
        "# Octal to Decimal\n",
        "octal_value = \"0o63\"\n",
        "decimal_back = int(octal_value, 8)\n",
        "print(\"Octal '0o63' to decimal:\", decimal_back)"
      ],
      "metadata": {
        "colab": {
          "base_uri": "https://localhost:8080/"
        },
        "id": "QJDKkfxFDYKm",
        "outputId": "5cacff7d-2a1b-4b00-85d4-80a89a9b2ea0"
      },
      "execution_count": 75,
      "outputs": [
        {
          "output_type": "stream",
          "name": "stdout",
          "text": [
            "Octal of 51 is: 0o63\n",
            "Octal '0o63' to decimal: 51\n"
          ]
        }
      ]
    },
    {
      "cell_type": "code",
      "source": [
        "# Decimal to Hexadecimal\n",
        "decimal = 51\n",
        "hexa = hex(decimal)\n",
        "print(\"Hexadecimal of 51 is:\", hexa)  # Output: 0x33\n",
        "\n",
        "# Hexadecimal to Decimal\n",
        "hex_value = \"0x33\"\n",
        "decimal_back = int(hex_value, 16)\n",
        "print(\"Hexadecimal '0x33' to decimal:\", decimal_back)"
      ],
      "metadata": {
        "colab": {
          "base_uri": "https://localhost:8080/"
        },
        "id": "BpddcpMoDx-G",
        "outputId": "1ca8e40a-7e5e-45da-81b6-84f244d84b1f"
      },
      "execution_count": 76,
      "outputs": [
        {
          "output_type": "stream",
          "name": "stdout",
          "text": [
            "Hexadecimal of 51 is: 0x33\n",
            "Hexadecimal '0x33' to decimal: 51\n"
          ]
        }
      ]
    },
    {
      "cell_type": "code",
      "source": [
        "binary_str = '11011'\n",
        "decimal = int(binary_str, 2)\n",
        "print(\"Binary 11011 to Decimal:\", decimal)  # Output: 27"
      ],
      "metadata": {
        "colab": {
          "base_uri": "https://localhost:8080/"
        },
        "id": "acRqKppMDyaa",
        "outputId": "f23dffe0-0a5b-4467-ab01-1e1f9650eefa"
      },
      "execution_count": 77,
      "outputs": [
        {
          "output_type": "stream",
          "name": "stdout",
          "text": [
            "Binary 11011 to Decimal: 27\n"
          ]
        }
      ]
    },
    {
      "cell_type": "code",
      "source": [
        "octal_str = '360'\n",
        "decimal = int(octal_str, 8)\n",
        "print(\"Octal 360 to Decimal:\", decimal)  # Output: 240"
      ],
      "metadata": {
        "colab": {
          "base_uri": "https://localhost:8080/"
        },
        "id": "cMySDbdOD6Nh",
        "outputId": "fa32c0fc-10df-4e82-d2e6-601ec2194a61"
      },
      "execution_count": 78,
      "outputs": [
        {
          "output_type": "stream",
          "name": "stdout",
          "text": [
            "Octal 360 to Decimal: 240\n"
          ]
        }
      ]
    },
    {
      "cell_type": "code",
      "source": [
        "hex_str = '33'\n",
        "decimal = int(hex_str, 16)\n",
        "print(\"Hexadecimal 33 to Decimal:\", decimal)  # Output: 51"
      ],
      "metadata": {
        "colab": {
          "base_uri": "https://localhost:8080/"
        },
        "id": "KWhYFTQED6lt",
        "outputId": "4c3e6dc7-918f-4ead-e8a3-3de278d66fca"
      },
      "execution_count": 79,
      "outputs": [
        {
          "output_type": "stream",
          "name": "stdout",
          "text": [
            "Hexadecimal 33 to Decimal: 51\n"
          ]
        }
      ]
    },
    {
      "cell_type": "code",
      "source": [
        "octal = \"725\"\n",
        "binary = ''.join([bin(int(digit))[2:].zfill(3) for digit in octal])\n",
        "print(\"Octal 725 to Binary:\", binary)  # Output: 111010101"
      ],
      "metadata": {
        "colab": {
          "base_uri": "https://localhost:8080/"
        },
        "id": "lYpevzqYD66C",
        "outputId": "5fe1877a-f9b5-4a1c-d951-b1ce9380ad59"
      },
      "execution_count": 80,
      "outputs": [
        {
          "output_type": "stream",
          "name": "stdout",
          "text": [
            "Octal 725 to Binary: 111010101\n"
          ]
        }
      ]
    },
    {
      "cell_type": "code",
      "source": [
        "binary = '101011011'\n",
        "# Pad the binary string to a multiple of 3\n",
        "while len(binary) % 3 != 0:\n",
        "    binary = '0' + binary\n",
        "octal = ''\n",
        "for i in range(0, len(binary), 3):\n",
        "    octal += str(int(binary[i:i+3], 2))\n",
        "print(\"Binary 101011011 to Octal:\", octal)  # Output: 533"
      ],
      "metadata": {
        "colab": {
          "base_uri": "https://localhost:8080/"
        },
        "id": "Nb-msFOvEKDW",
        "outputId": "86cb89f6-790c-41b5-855e-7fb05fe75415"
      },
      "execution_count": 81,
      "outputs": [
        {
          "output_type": "stream",
          "name": "stdout",
          "text": [
            "Binary 101011011 to Octal: 533\n"
          ]
        }
      ]
    },
    {
      "cell_type": "code",
      "source": [
        "a = 10  # binary: 1010\n",
        "b = 4   # binary: 0100"
      ],
      "metadata": {
        "id": "GJrUfTu2ELzq"
      },
      "execution_count": 82,
      "outputs": []
    },
    {
      "cell_type": "code",
      "source": [
        "result = a & b\n",
        "print(result)  # Output: 0"
      ],
      "metadata": {
        "colab": {
          "base_uri": "https://localhost:8080/"
        },
        "id": "YnJjcMTFEQqx",
        "outputId": "4a1e377e-e1ee-4b89-8b4f-03afcb39c533"
      },
      "execution_count": 83,
      "outputs": [
        {
          "output_type": "stream",
          "name": "stdout",
          "text": [
            "0\n"
          ]
        }
      ]
    },
    {
      "cell_type": "code",
      "source": [
        "result = a | b\n",
        "print(result)  # Output: 14"
      ],
      "metadata": {
        "colab": {
          "base_uri": "https://localhost:8080/"
        },
        "id": "fpSRTPmiERJG",
        "outputId": "376223d7-ca9b-4824-8595-802f63419c75"
      },
      "execution_count": 84,
      "outputs": [
        {
          "output_type": "stream",
          "name": "stdout",
          "text": [
            "14\n"
          ]
        }
      ]
    },
    {
      "cell_type": "code",
      "source": [
        "result = a ^ b\n",
        "print(result)  # Output: 14"
      ],
      "metadata": {
        "colab": {
          "base_uri": "https://localhost:8080/"
        },
        "id": "mxcIsXNtERfN",
        "outputId": "081b5f42-4a13-4da8-c5d2-7d45b035037a"
      },
      "execution_count": 85,
      "outputs": [
        {
          "output_type": "stream",
          "name": "stdout",
          "text": [
            "14\n"
          ]
        }
      ]
    },
    {
      "cell_type": "code",
      "source": [
        "x = 5\n",
        "result = ~x\n",
        "print(result)  # Output: -6"
      ],
      "metadata": {
        "colab": {
          "base_uri": "https://localhost:8080/"
        },
        "id": "C4sdAtTDER4C",
        "outputId": "e068f66a-9ee7-4410-e5f6-5b275f965d77"
      },
      "execution_count": 86,
      "outputs": [
        {
          "output_type": "stream",
          "name": "stdout",
          "text": [
            "-6\n"
          ]
        }
      ]
    },
    {
      "cell_type": "code",
      "source": [
        "a = 5\n",
        "result = a << 1\n",
        "print(result)  # Output: 10"
      ],
      "metadata": {
        "colab": {
          "base_uri": "https://localhost:8080/"
        },
        "id": "Lyh7LmVvESOJ",
        "outputId": "a8feab0f-1efe-4d25-d3f7-e9eb31e4769e"
      },
      "execution_count": 87,
      "outputs": [
        {
          "output_type": "stream",
          "name": "stdout",
          "text": [
            "10\n"
          ]
        }
      ]
    },
    {
      "cell_type": "code",
      "source": [
        "a = 20\n",
        "result = a >> 2\n",
        "print(result)  # Output: 5"
      ],
      "metadata": {
        "colab": {
          "base_uri": "https://localhost:8080/"
        },
        "id": "mL3nlYHgESje",
        "outputId": "8394a173-f327-49fe-ee1f-87144b303158"
      },
      "execution_count": 88,
      "outputs": [
        {
          "output_type": "stream",
          "name": "stdout",
          "text": [
            "5\n"
          ]
        }
      ]
    },
    {
      "cell_type": "code",
      "source": [
        "a = 10\n",
        "b = 4\n",
        "print(\"a & b =\", a & b)   # AND\n",
        "print(\"a | b =\", a | b)   # OR\n",
        "print(\"a ^ b =\", a ^ b)   # XOR\n",
        "print(\"~a =\", ~a)         # NOT\n",
        "print(\"a << 1 =\", a << 1) # Left Shift\n",
        "print(\"a >> 1 =\", a >> 1) # Right Shift"
      ],
      "metadata": {
        "colab": {
          "base_uri": "https://localhost:8080/"
        },
        "id": "u4wzWN8AES6C",
        "outputId": "e62e1a58-cd13-467e-ab0c-7fa42a50e7d6"
      },
      "execution_count": 89,
      "outputs": [
        {
          "output_type": "stream",
          "name": "stdout",
          "text": [
            "a & b = 0\n",
            "a | b = 14\n",
            "a ^ b = 14\n",
            "~a = -11\n",
            "a << 1 = 20\n",
            "a >> 1 = 5\n"
          ]
        }
      ]
    },
    {
      "cell_type": "code",
      "source": [
        "x = 7\n",
        "y = 3\n",
        "print(\"x & y =\", x & y)\n",
        "print(\"x | y =\", x | y)\n",
        "print(\"x ^ y =\", x ^ y)\n",
        "print(\"~x =\", ~x)\n",
        "print(\"x << 2 =\", x << 2)\n",
        "print(\"x >> 2 =\", x >> 2)"
      ],
      "metadata": {
        "colab": {
          "base_uri": "https://localhost:8080/"
        },
        "id": "vXE_s2z2ETPb",
        "outputId": "517f3696-e985-49c3-f7c6-a3da05849f26"
      },
      "execution_count": 90,
      "outputs": [
        {
          "output_type": "stream",
          "name": "stdout",
          "text": [
            "x & y = 3\n",
            "x | y = 7\n",
            "x ^ y = 4\n",
            "~x = -8\n",
            "x << 2 = 28\n",
            "x >> 2 = 1\n"
          ]
        }
      ]
    },
    {
      "cell_type": "code",
      "source": [
        "import math\n",
        "print(\"Square root of 25 is:\", math.sqrt(25))  # Output: 5.0"
      ],
      "metadata": {
        "colab": {
          "base_uri": "https://localhost:8080/"
        },
        "id": "JmkjdvjfETpX",
        "outputId": "835fcbf9-087c-47db-85b0-48f78f3d667c"
      },
      "execution_count": 91,
      "outputs": [
        {
          "output_type": "stream",
          "name": "stdout",
          "text": [
            "Square root of 25 is: 5.0\n"
          ]
        }
      ]
    },
    {
      "cell_type": "code",
      "source": [
        "print(\"2 raised to power 3 is:\", math.pow(2, 3))  # Output: 8.0\n"
      ],
      "metadata": {
        "colab": {
          "base_uri": "https://localhost:8080/"
        },
        "id": "1vXwfKtIFWTm",
        "outputId": "ba807e28-3b18-477f-8805-911a962a2119"
      },
      "execution_count": 92,
      "outputs": [
        {
          "output_type": "stream",
          "name": "stdout",
          "text": [
            "2 raised to power 3 is: 8.0\n"
          ]
        }
      ]
    },
    {
      "cell_type": "code",
      "source": [
        "print(\"Floor of 3.7 is:\", math.floor(3.7))  # Output: 3\n",
        "print(\"Ceil of 3.7 is:\", math.ceil(3.7))    # Output: 4\n"
      ],
      "metadata": {
        "colab": {
          "base_uri": "https://localhost:8080/"
        },
        "id": "4zwA8qqfFsC6",
        "outputId": "aedb4396-eab8-4f4b-f916-a7cacaa6e358"
      },
      "execution_count": 93,
      "outputs": [
        {
          "output_type": "stream",
          "name": "stdout",
          "text": [
            "Floor of 3.7 is: 3\n",
            "Ceil of 3.7 is: 4\n"
          ]
        }
      ]
    },
    {
      "cell_type": "code",
      "source": [
        "print(\"Exponential of 2 is:\", math.exp(2))  # Output: e^2 ≈ 7.389\n"
      ],
      "metadata": {
        "colab": {
          "base_uri": "https://localhost:8080/"
        },
        "id": "ZRW7-9T_F5XK",
        "outputId": "8a797c8c-13f0-4ace-c1c3-65f389531cee"
      },
      "execution_count": 94,
      "outputs": [
        {
          "output_type": "stream",
          "name": "stdout",
          "text": [
            "Exponential of 2 is: 7.38905609893065\n"
          ]
        }
      ]
    },
    {
      "cell_type": "code",
      "source": [
        "print(\"Exponential of 2 is:\", math.exp(2))  # Output: e^2 ≈ 7.389\n"
      ],
      "metadata": {
        "colab": {
          "base_uri": "https://localhost:8080/"
        },
        "id": "BbgduF0nGlMi",
        "outputId": "869a278c-3c8a-46a0-98ad-dbd8628db342"
      },
      "execution_count": 95,
      "outputs": [
        {
          "output_type": "stream",
          "name": "stdout",
          "text": [
            "Exponential of 2 is: 7.38905609893065\n"
          ]
        }
      ]
    },
    {
      "cell_type": "code",
      "source": [
        "print(\"Value of pi is:\", math.pi)\n",
        "print(\"Value of e is:\", math.e)\n",
        "print(\"Positive infinity:\", math.inf)\n",
        "print(\"Not a number (NaN):\", math.nan)\n"
      ],
      "metadata": {
        "colab": {
          "base_uri": "https://localhost:8080/"
        },
        "id": "buPXGL_gG82e",
        "outputId": "4da8212f-e37d-447a-bcda-c4a5e94d1e49"
      },
      "execution_count": 96,
      "outputs": [
        {
          "output_type": "stream",
          "name": "stdout",
          "text": [
            "Value of pi is: 3.141592653589793\n",
            "Value of e is: 2.718281828459045\n",
            "Positive infinity: inf\n",
            "Not a number (NaN): nan\n"
          ]
        }
      ]
    },
    {
      "cell_type": "code",
      "source": [
        "radius = 5\n",
        "area = math.pi * radius * radius\n",
        "print(\"Area of circle:\", area)\n"
      ],
      "metadata": {
        "colab": {
          "base_uri": "https://localhost:8080/"
        },
        "id": "bnvj_bNGHHVg",
        "outputId": "e515b5fc-c446-489e-9429-6d265e96794e"
      },
      "execution_count": 97,
      "outputs": [
        {
          "output_type": "stream",
          "name": "stdout",
          "text": [
            "Area of circle: 78.53981633974483\n"
          ]
        }
      ]
    },
    {
      "cell_type": "code",
      "source": [
        "radius = 7\n",
        "area = math.pi * radius ** 2\n",
        "circumference = 2 * math.pi * radius\n",
        "print(\"Area:\", area)\n",
        "print(\"Circumference:\", circumference)\n"
      ],
      "metadata": {
        "colab": {
          "base_uri": "https://localhost:8080/"
        },
        "id": "nz3QwW7yHLlE",
        "outputId": "cffb59e1-cdf6-4113-d408-5a6e3480d708"
      },
      "execution_count": 99,
      "outputs": [
        {
          "output_type": "stream",
          "name": "stdout",
          "text": [
            "Area: 153.93804002589985\n",
            "Circumference: 43.982297150257104\n"
          ]
        }
      ]
    },
    {
      "cell_type": "code",
      "source": [
        "#2. Convert degrees to radians and vice versa\n",
        "degrees = 180\n",
        "radians = math.radians(degrees)\n",
        "print(\"180 degrees in radians:\", radians)\n",
        "\n",
        "# Convert back\n",
        "deg = math.degrees(radians)\n",
        "print(\"Converted back to degrees:\", deg)\n"
      ],
      "metadata": {
        "colab": {
          "base_uri": "https://localhost:8080/"
        },
        "id": "Y4md18iyHMY-",
        "outputId": "567bf0d1-6eaa-47a1-a3e4-8729ba7c43a8"
      },
      "execution_count": 100,
      "outputs": [
        {
          "output_type": "stream",
          "name": "stdout",
          "text": [
            "180 degrees in radians: 3.141592653589793\n",
            "Converted back to degrees: 180.0\n"
          ]
        }
      ]
    },
    {
      "cell_type": "code",
      "source": [
        "a = 5\n",
        "b = 6\n",
        "a = b\n",
        "print(\"a:\", a)  # Output: 6\n",
        "print(\"b:\", b)  # Output: 6 => We lost the original value of `a`\n",
        "a = 5\n",
        "b = 6\n",
        "temp = a     # Store the value of a\n",
        "a = b        # Assign b to a\n",
        "b = temp     # Restore the original a into b\n",
        "\n",
        "print(\"a:\", a)  # Output: 6\n",
        "print(\"b:\", b)  # Output: 5\n",
        "\n"
      ],
      "metadata": {
        "colab": {
          "base_uri": "https://localhost:8080/"
        },
        "id": "_o-o_Hl3N56h",
        "outputId": "2d522a7a-9ca4-4733-c3f4-22c0ee337959"
      },
      "execution_count": 101,
      "outputs": [
        {
          "output_type": "stream",
          "name": "stdout",
          "text": [
            "a: 6\n",
            "b: 6\n",
            "a: 6\n",
            "b: 5\n"
          ]
        }
      ]
    },
    {
      "cell_type": "code",
      "source": [
        "a = 5\n",
        "b = 6\n",
        "temp = a     # Store the value of a\n",
        "a = b        # Assign b to a\n",
        "b = temp     # Restore the original a into b\n",
        "\n",
        "print(\"a:\", a)  # Output: 6\n",
        "print(\"b:\", b)  # Output: 5\n"
      ],
      "metadata": {
        "colab": {
          "base_uri": "https://localhost:8080/"
        },
        "id": "ttIQYT9TN8Tv",
        "outputId": "18dd9514-1b8f-41bc-de75-de69c02680c1"
      },
      "execution_count": 102,
      "outputs": [
        {
          "output_type": "stream",
          "name": "stdout",
          "text": [
            "a: 6\n",
            "b: 5\n"
          ]
        }
      ]
    },
    {
      "cell_type": "code",
      "source": [
        "a = 5\n",
        "b = 6\n",
        "\n",
        "a = a + b  # a becomes 11\n",
        "b = a - b  # b becomes 5 (11 - 6)\n",
        "a = a - b  # a becomes 6 (11 - 5)\n",
        "\n",
        "print(\"a:\", a)  # Output: 6\n",
        "print(\"b:\", b)  # Output: 5\n"
      ],
      "metadata": {
        "colab": {
          "base_uri": "https://localhost:8080/"
        },
        "id": "zIPPG-6NN8l8",
        "outputId": "8ef0f551-2afc-4d54-e926-c66a5e339e43"
      },
      "execution_count": 104,
      "outputs": [
        {
          "output_type": "stream",
          "name": "stdout",
          "text": [
            "a: 6\n",
            "b: 5\n"
          ]
        }
      ]
    },
    {
      "cell_type": "code",
      "source": [
        "a = 5\n",
        "b = 6\n",
        "\n",
        "a = a ^ b\n",
        "b = a ^ b\n",
        "a = a ^ b\n",
        "\n",
        "print(\"a:\", a)  # Output: 6\n",
        "print(\"b:\", b)  # Output: 5\n"
      ],
      "metadata": {
        "colab": {
          "base_uri": "https://localhost:8080/"
        },
        "id": "I4StTJ-8N9V7",
        "outputId": "9caa28f3-0233-4434-d53e-cec3ce4fca4d"
      },
      "execution_count": 105,
      "outputs": [
        {
          "output_type": "stream",
          "name": "stdout",
          "text": [
            "a: 6\n",
            "b: 5\n"
          ]
        }
      ]
    },
    {
      "cell_type": "code",
      "source": [
        "a = 5\n",
        "b = 6\n",
        "\n",
        "a, b = b, a\n",
        "\n",
        "print(\"a:\", a)  # Output: 6\n",
        "print(\"b:\", b)  # Output: 5\n"
      ],
      "metadata": {
        "colab": {
          "base_uri": "https://localhost:8080/"
        },
        "id": "eBsh6HWjN9m8",
        "outputId": "00ce2699-251b-4e4c-bf3b-5667dd6f4ca8"
      },
      "execution_count": 106,
      "outputs": [
        {
          "output_type": "stream",
          "name": "stdout",
          "text": [
            "a: 6\n",
            "b: 5\n"
          ]
        }
      ]
    },
    {
      "cell_type": "code",
      "source": [
        "age = 18\n",
        "\n",
        "if age >= 18:\n",
        "    print(\"You are eligible to vote.\")\n"
      ],
      "metadata": {
        "colab": {
          "base_uri": "https://localhost:8080/"
        },
        "id": "aVfQyf3kN98t",
        "outputId": "ba4b29eb-1ac8-44cb-dd94-8e073590701f"
      },
      "execution_count": 107,
      "outputs": [
        {
          "output_type": "stream",
          "name": "stdout",
          "text": [
            "You are eligible to vote.\n"
          ]
        }
      ]
    },
    {
      "cell_type": "code",
      "source": [
        "if True:\n",
        "\n",
        " print(\"This will give an error.\")  # ❌ Wrong indentation"
      ],
      "metadata": {
        "colab": {
          "base_uri": "https://localhost:8080/"
        },
        "id": "uNu3YIyvN-OH",
        "outputId": "86d48f1a-2394-451e-a4a7-1f6130749fef"
      },
      "execution_count": 108,
      "outputs": [
        {
          "output_type": "stream",
          "name": "stdout",
          "text": [
            "This will give an error.\n"
          ]
        }
      ]
    },
    {
      "cell_type": "code",
      "source": [
        "marks = 45\n",
        "\n",
        "if marks >= 50:\n",
        "    print(\"You passed the exam.\")\n",
        "else:\n",
        "    print(\"You failed the exam.\")\n"
      ],
      "metadata": {
        "colab": {
          "base_uri": "https://localhost:8080/"
        },
        "id": "ESD1jj-xN-d1",
        "outputId": "fb33df6c-01d8-4324-ade7-e06e095a08d9"
      },
      "execution_count": 109,
      "outputs": [
        {
          "output_type": "stream",
          "name": "stdout",
          "text": [
            "You failed the exam.\n"
          ]
        }
      ]
    },
    {
      "cell_type": "code",
      "source": [
        "num = 15\n",
        "\n",
        "if num > 0:\n",
        "    print(\"Positive number\")\n",
        "    if num % 5 == 0:\n",
        "        print(\"Divisible by 5\")"
      ],
      "metadata": {
        "colab": {
          "base_uri": "https://localhost:8080/"
        },
        "id": "POZIT-D8N-tM",
        "outputId": "369437f1-51a8-4a51-dcbe-8178ea734a4b"
      },
      "execution_count": 110,
      "outputs": [
        {
          "output_type": "stream",
          "name": "stdout",
          "text": [
            "Positive number\n",
            "Divisible by 5\n"
          ]
        }
      ]
    },
    {
      "cell_type": "code",
      "source": [
        "temperature = 30\n",
        "\n",
        "if temperature > 35:\n",
        "    print(\"It's very hot\")\n",
        "elif temperature > 25:\n",
        "    print(\"It's warm\")\n",
        "elif temperature > 15:\n",
        "    print(\"It's pleasant\")\n",
        "else:\n",
        "    print(\"It's cold\")\n"
      ],
      "metadata": {
        "colab": {
          "base_uri": "https://localhost:8080/"
        },
        "id": "A2dsct-7OloD",
        "outputId": "22eee8c8-7388-4b07-b913-eb7c0a182005"
      },
      "execution_count": 111,
      "outputs": [
        {
          "output_type": "stream",
          "name": "stdout",
          "text": [
            "It's warm\n"
          ]
        }
      ]
    },
    {
      "cell_type": "code",
      "source": [
        "temperature = 30\n",
        "\n",
        "if temperature > 35:\n",
        "    print(\"It's very hot\")\n",
        "elif temperature > 25:\n",
        "    print(\"It's warm\")\n",
        "elif temperature > 15:\n",
        "    print(\"It's pleasant\")\n",
        "else:\n",
        "    print(\"It's cold\")\n"
      ],
      "metadata": {
        "colab": {
          "base_uri": "https://localhost:8080/"
        },
        "id": "0AEpNW6aOmJk",
        "outputId": "fb195ee7-bbb8-4ff9-a7e8-474faf329191"
      },
      "execution_count": 112,
      "outputs": [
        {
          "output_type": "stream",
          "name": "stdout",
          "text": [
            "It's warm\n"
          ]
        }
      ]
    },
    {
      "cell_type": "code",
      "source": [
        "# Print numbers from 1 to 5 using while loop\n",
        "\n",
        "count = 1  # Initialization\n",
        "while count <= 5:  # Condition\n",
        "    print(\"Count is:\", count)\n",
        "    count += 1  # Increment\n"
      ],
      "metadata": {
        "colab": {
          "base_uri": "https://localhost:8080/"
        },
        "id": "R-bihvm5OyO9",
        "outputId": "3a0472eb-1c3b-47bc-ec5e-536c099ed544"
      },
      "execution_count": 113,
      "outputs": [
        {
          "output_type": "stream",
          "name": "stdout",
          "text": [
            "Count is: 1\n",
            "Count is: 2\n",
            "Count is: 3\n",
            "Count is: 4\n",
            "Count is: 5\n"
          ]
        }
      ]
    },
    {
      "cell_type": "code",
      "source": [
        "# Print numbers 1 to 5 in the same line\n",
        "count = 1\n",
        "while count <= 5:\n",
        "    print(count, end=\" \\n \")  # Space instead of newline\n",
        "    count += 1\n"
      ],
      "metadata": {
        "colab": {
          "base_uri": "https://localhost:8080/"
        },
        "id": "8Ffr2en7O1hn",
        "outputId": "ef815488-67a1-40b0-f961-dc25cff5dd8d"
      },
      "execution_count": 114,
      "outputs": [
        {
          "output_type": "stream",
          "name": "stdout",
          "text": [
            "1 \n",
            " 2 \n",
            " 3 \n",
            " 4 \n",
            " 5 \n",
            " "
          ]
        }
      ]
    },
    {
      "cell_type": "code",
      "source": [
        "# Nested while loop to print a pattern\n",
        "i = 1\n",
        "while i <= 3:\n",
        "    j = 1\n",
        "    while j <= i:\n",
        "        print(\"*\", end=\" \")\n",
        "        j += 1\n",
        "    print()  # For new line after each row\n",
        "    i += 1\n"
      ],
      "metadata": {
        "colab": {
          "base_uri": "https://localhost:8080/"
        },
        "id": "LSlgZmLtO17M",
        "outputId": "73176c9d-6999-4b33-899b-6825c674b7c7"
      },
      "execution_count": 115,
      "outputs": [
        {
          "output_type": "stream",
          "name": "stdout",
          "text": [
            "* \n",
            "* * \n",
            "* * * \n"
          ]
        }
      ]
    },
    {
      "cell_type": "code",
      "source": [
        "# Sum of first 10 natural numbers\n",
        "n = 1\n",
        "total = 0\n",
        "\n",
        "while n <= 10:\n",
        "    total += n\n",
        "    n += 1\n",
        "\n",
        "print(\"Sum is:\", total)"
      ],
      "metadata": {
        "colab": {
          "base_uri": "https://localhost:8080/"
        },
        "id": "7jt1Xf2AO2TG",
        "outputId": "8d6406ac-d431-45a1-c9bf-a2a898028755"
      },
      "execution_count": 116,
      "outputs": [
        {
          "output_type": "stream",
          "name": "stdout",
          "text": [
            "Sum is: 55\n"
          ]
        }
      ]
    },
    {
      "cell_type": "code",
      "source": [
        "for i in range(1, 6):\n",
        "    if i == 3:\n",
        "        break\n",
        "    print(i)\n"
      ],
      "metadata": {
        "colab": {
          "base_uri": "https://localhost:8080/"
        },
        "id": "fWDKWkYzPDyA",
        "outputId": "a237b3cf-4620-43ce-a762-3ec483ef63a4"
      },
      "execution_count": 117,
      "outputs": [
        {
          "output_type": "stream",
          "name": "stdout",
          "text": [
            "1\n",
            "2\n"
          ]
        }
      ]
    },
    {
      "cell_type": "code",
      "source": [
        "for i in range(1, 6):\n",
        "    if i == 3:\n",
        "        continue\n",
        "    print(i)\n"
      ],
      "metadata": {
        "colab": {
          "base_uri": "https://localhost:8080/"
        },
        "id": "ZgNJjCEOPIsS",
        "outputId": "9888b14e-b56d-48b6-fc99-b71820c914e0"
      },
      "execution_count": 118,
      "outputs": [
        {
          "output_type": "stream",
          "name": "stdout",
          "text": [
            "1\n",
            "2\n",
            "4\n",
            "5\n"
          ]
        }
      ]
    },
    {
      "cell_type": "code",
      "source": [
        "for i in range(1, 5):\n",
        "    if i == 3:\n",
        "        pass\n",
        "    else:\n",
        "        print(i)"
      ],
      "metadata": {
        "colab": {
          "base_uri": "https://localhost:8080/"
        },
        "id": "8hlkg57kPN3w",
        "outputId": "367e2c28-4dd2-4380-c42b-c83c4487fb71"
      },
      "execution_count": 120,
      "outputs": [
        {
          "output_type": "stream",
          "name": "stdout",
          "text": [
            "1\n",
            "2\n",
            "4\n"
          ]
        }
      ]
    },
    {
      "cell_type": "code",
      "source": [
        "print(\"#\")\n",
        "print(\"#\")\n",
        "print(\"#\")\n"
      ],
      "metadata": {
        "colab": {
          "base_uri": "https://localhost:8080/"
        },
        "id": "DlPofrW9PSFr",
        "outputId": "3a672459-6296-41cf-9767-b59cab1d3d3d"
      },
      "execution_count": 121,
      "outputs": [
        {
          "output_type": "stream",
          "name": "stdout",
          "text": [
            "#\n",
            "#\n",
            "#\n"
          ]
        }
      ]
    },
    {
      "cell_type": "code",
      "source": [
        "print(\"#\", end=\" \")\n",
        "print(\"#\", end=\" \")\n",
        "print(\"#\", end=\" \")\n"
      ],
      "metadata": {
        "colab": {
          "base_uri": "https://localhost:8080/"
        },
        "id": "SH465wKSPV6F",
        "outputId": "c76c258c-113a-4d65-9ede-d05d80b55d38"
      },
      "execution_count": 122,
      "outputs": [
        {
          "output_type": "stream",
          "name": "stdout",
          "text": [
            "# # # "
          ]
        }
      ]
    },
    {
      "cell_type": "code",
      "source": [
        "for i in range(5):\n",
        "    print(\"#\", end=\" \")"
      ],
      "metadata": {
        "colab": {
          "base_uri": "https://localhost:8080/"
        },
        "id": "06uC4LvXPWWw",
        "outputId": "125cbb22-7a80-4cd8-a051-79eef4ef249f"
      },
      "execution_count": 123,
      "outputs": [
        {
          "output_type": "stream",
          "name": "stdout",
          "text": [
            "# # # # # "
          ]
        }
      ]
    },
    {
      "cell_type": "code",
      "source": [
        "for row in range(4):            # Outer loop = rows\n",
        "    for col in range(4):        # Inner loop = columns\n",
        "        print(\"#\", end=\" \")\n",
        "    print()                     # Moves to the next line after each row\n"
      ],
      "metadata": {
        "colab": {
          "base_uri": "https://localhost:8080/"
        },
        "id": "KRuEYv9EPW6p",
        "outputId": "ed61d8eb-705f-4b28-e698-488a72f41160"
      },
      "execution_count": 124,
      "outputs": [
        {
          "output_type": "stream",
          "name": "stdout",
          "text": [
            "# # # # \n",
            "# # # # \n",
            "# # # # \n",
            "# # # # \n"
          ]
        }
      ]
    },
    {
      "cell_type": "code",
      "source": [
        "for i in range(1, 6):              # i = current row\n",
        "    for j in range(i):            # print j times per row\n",
        "        print(\"#\", end=\" \")\n",
        "    print()                       # move to next line\n"
      ],
      "metadata": {
        "id": "x5jnAaMePgko"
      },
      "execution_count": null,
      "outputs": []
    },
    {
      "cell_type": "code",
      "source": [
        "for i in range(5):               # i = 0 to 4\n",
        "    for j in range(5 - i):       # print (5 - i) hashes\n",
        "        print(\"#\", end=\" \")\n",
        "    print()\n"
      ],
      "metadata": {
        "id": "bDTwRx4oPXRz"
      },
      "execution_count": null,
      "outputs": []
    },
    {
      "cell_type": "code",
      "source": [
        "import array as arr\n"
      ],
      "metadata": {
        "id": "SDetrdcHPnVh"
      },
      "execution_count": 125,
      "outputs": []
    },
    {
      "cell_type": "code",
      "source": [
        "numbers = arr.array('i', [10, 20, 30, 40, 50])"
      ],
      "metadata": {
        "id": "dcKoQwbKPsWp"
      },
      "execution_count": 126,
      "outputs": []
    },
    {
      "cell_type": "code",
      "source": [
        "print(numbers.buffer_info())\n"
      ],
      "metadata": {
        "colab": {
          "base_uri": "https://localhost:8080/"
        },
        "id": "Cga2tMN3PxCt",
        "outputId": "1799995c-6c49-49bf-8bed-49628cd87a9b"
      },
      "execution_count": 127,
      "outputs": [
        {
          "output_type": "stream",
          "name": "stdout",
          "text": [
            "(136701333819152, 5)\n"
          ]
        }
      ]
    },
    {
      "cell_type": "code",
      "source": [
        "print(numbers.typecode)"
      ],
      "metadata": {
        "colab": {
          "base_uri": "https://localhost:8080/"
        },
        "id": "P8SvPGfCP1nq",
        "outputId": "624d3927-7a37-42d7-f301-0a65955dbce7"
      },
      "execution_count": 128,
      "outputs": [
        {
          "output_type": "stream",
          "name": "stdout",
          "text": [
            "i\n"
          ]
        }
      ]
    },
    {
      "cell_type": "code",
      "source": [
        "numbers.append(60)\n",
        "print(numbers)\n"
      ],
      "metadata": {
        "colab": {
          "base_uri": "https://localhost:8080/"
        },
        "id": "Q_chcf5DP4gl",
        "outputId": "d6f4f095-6e2d-4675-d4f0-19e0cdf8aa96"
      },
      "execution_count": 129,
      "outputs": [
        {
          "output_type": "stream",
          "name": "stdout",
          "text": [
            "array('i', [10, 20, 30, 40, 50, 60])\n"
          ]
        }
      ]
    },
    {
      "cell_type": "code",
      "source": [
        "numbers.reverse()\n",
        "print(numbers)\n"
      ],
      "metadata": {
        "colab": {
          "base_uri": "https://localhost:8080/"
        },
        "id": "Ny91M5WkP78x",
        "outputId": "6f2b97cf-0cd8-4b9c-dc6d-ede753f4293a"
      },
      "execution_count": 130,
      "outputs": [
        {
          "output_type": "stream",
          "name": "stdout",
          "text": [
            "array('i', [60, 50, 40, 30, 20, 10])\n"
          ]
        }
      ]
    },
    {
      "cell_type": "code",
      "source": [
        "print(numbers[0])  # First element\n",
        "print(numbers[2])  # Third element\n"
      ],
      "metadata": {
        "colab": {
          "base_uri": "https://localhost:8080/"
        },
        "id": "nI7C6CEZP84M",
        "outputId": "3a8c69d4-94e3-48cd-efe2-8b51ccf4390d"
      },
      "execution_count": 131,
      "outputs": [
        {
          "output_type": "stream",
          "name": "stdout",
          "text": [
            "60\n",
            "40\n"
          ]
        }
      ]
    },
    {
      "cell_type": "code",
      "source": [
        "for num in numbers:\n",
        "    print(num)"
      ],
      "metadata": {
        "colab": {
          "base_uri": "https://localhost:8080/"
        },
        "id": "OIrEZ41EQCZg",
        "outputId": "03f58dbb-6976-46c6-c9c7-807fa48f71b1"
      },
      "execution_count": 132,
      "outputs": [
        {
          "output_type": "stream",
          "name": "stdout",
          "text": [
            "60\n",
            "50\n",
            "40\n",
            "30\n",
            "20\n",
            "10\n"
          ]
        }
      ]
    },
    {
      "cell_type": "code",
      "source": [
        "i = 0\n",
        "while i < len(numbers):\n",
        "    print(numbers[i])\n",
        "    i += 1"
      ],
      "metadata": {
        "colab": {
          "base_uri": "https://localhost:8080/"
        },
        "id": "sCsoSdXYQHU2",
        "outputId": "451595fe-dfb2-4ffa-9aa5-06aec2000e9e"
      },
      "execution_count": 133,
      "outputs": [
        {
          "output_type": "stream",
          "name": "stdout",
          "text": [
            "60\n",
            "50\n",
            "40\n",
            "30\n",
            "20\n",
            "10\n"
          ]
        }
      ]
    },
    {
      "cell_type": "code",
      "source": [
        "new_array = arr.array('i', [])\n",
        "\n",
        "for value in numbers:\n",
        "    new_array.append(value)\n",
        "\n",
        "print(\"New Array:\", new_array)"
      ],
      "metadata": {
        "colab": {
          "base_uri": "https://localhost:8080/"
        },
        "id": "5yognpJHQH1I",
        "outputId": "bcce37dd-c1d5-458b-cf82-f2cba5fe4764"
      },
      "execution_count": 134,
      "outputs": [
        {
          "output_type": "stream",
          "name": "stdout",
          "text": [
            "New Array: array('i', [60, 50, 40, 30, 20, 10])\n"
          ]
        }
      ]
    },
    {
      "cell_type": "code",
      "source": [
        "from numpy import *\n",
        "mat = array([[1, 2, 3], [4, 5, 6], [7, 8, 9]])\n",
        "print(mat)\n",
        "print('First row:', mat[0])\n",
        "print('Element at (2,3):', mat[1][2])\n",
        "print('All rows of 2nd column:', mat[:, 1])"
      ],
      "metadata": {
        "colab": {
          "base_uri": "https://localhost:8080/"
        },
        "id": "9vaDwPnRQIKt",
        "outputId": "ecfa723d-4a28-4d3e-d355-8a598e3e5ff9"
      },
      "execution_count": 135,
      "outputs": [
        {
          "output_type": "stream",
          "name": "stdout",
          "text": [
            "[[1 2 3]\n",
            " [4 5 6]\n",
            " [7 8 9]]\n",
            "First row: [1 2 3]\n",
            "Element at (2,3): 6\n",
            "All rows of 2nd column: [2 5 8]\n"
          ]
        }
      ]
    },
    {
      "cell_type": "code",
      "source": [
        "from numpy import *\n",
        "\n",
        "# 1. array() - creates array from a list\n",
        "arr1 = array([1, 2, 3, 4])\n",
        "print(\"Array:\", arr1)\n",
        "print(\"Type:\", arr1.dtype)\n",
        "\n",
        "# 2. linspace() - creates array with equal intervals\n",
        "arr2 = linspace(0, 10, 5)  # divides from 0 to 10 in 5 parts\n",
        "print(\"\\nLinspace:\", arr2)\n",
        "\n",
        "# 3. arange() - works like range()\n",
        "arr3 = arange(1, 10, 2)  # starts from 1, goes till <10, step = 2\n",
        "print(\"\\nArange:\", arr3)\n",
        "\n",
        "# 4. logspace() - spaced numbers on a log scale\n",
        "arr4 = logspace(1, 3, 5)  # 10^1 to 10^3 in 5 parts\n",
        "print(\"\\nLogspace:\", arr4)\n",
        "\n",
        "# 5. zeros() - creates array of 0s\n",
        "arr5 = zeros(5)\n",
        "print(\"\\nZeros:\", arr5)\n",
        "\n",
        "# 6. ones() - creates array of 1s\n",
        "arr6 = ones(4, int)\n",
        "print(\"\\nOnes (int):\", arr6)\n"
      ],
      "metadata": {
        "colab": {
          "base_uri": "https://localhost:8080/"
        },
        "id": "6ty3Tn5VQW72",
        "outputId": "aeb05596-dbef-47d3-b27f-4317cbd82879"
      },
      "execution_count": 136,
      "outputs": [
        {
          "output_type": "stream",
          "name": "stdout",
          "text": [
            "Array: [1 2 3 4]\n",
            "Type: int64\n",
            "\n",
            "Linspace: [ 0.   2.5  5.   7.5 10. ]\n",
            "\n",
            "Arange: [1 3 5 7 9]\n",
            "\n",
            "Logspace: [  10.           31.6227766   100.          316.22776602 1000.        ]\n",
            "\n",
            "Zeros: [0. 0. 0. 0. 0.]\n",
            "\n",
            "Ones (int): [1 1 1 1]\n"
          ]
        }
      ]
    },
    {
      "cell_type": "code",
      "source": [
        "from numpy import *\n",
        "\n",
        "# Matrix with 2 rows and 3 columns\n",
        "matrix = array([[1, 2, 3],\n",
        "                [4, 5, 6]])\n",
        "print(\"Matrix:\\n\", matrix)\n"
      ],
      "metadata": {
        "colab": {
          "base_uri": "https://localhost:8080/"
        },
        "id": "ixGPQvLUQaVa",
        "outputId": "3cbfd536-f664-400d-e957-5ad0d9ccad47"
      },
      "execution_count": 137,
      "outputs": [
        {
          "output_type": "stream",
          "name": "stdout",
          "text": [
            "Matrix:\n",
            " [[1 2 3]\n",
            " [4 5 6]]\n"
          ]
        }
      ]
    },
    {
      "cell_type": "code",
      "source": [
        "# Access 1st row, 2nd column (remember: index starts at 0)\n",
        "print(\"Element at (0,1):\", matrix[0][1])  # Output: 2\n",
        "\n",
        "# Access entire row\n",
        "print(\"First row:\", matrix[0])\n",
        "\n",
        "# Access entire column\n",
        "print(\"Second column:\", matrix[:,1])\n"
      ],
      "metadata": {
        "colab": {
          "base_uri": "https://localhost:8080/"
        },
        "id": "nUyOCC9SQefc",
        "outputId": "24b3d9d5-e7f6-4c7f-f767-ff6279512665"
      },
      "execution_count": 138,
      "outputs": [
        {
          "output_type": "stream",
          "name": "stdout",
          "text": [
            "Element at (0,1): 2\n",
            "First row: [1 2 3]\n",
            "Second column: [2 5]\n"
          ]
        }
      ]
    },
    {
      "cell_type": "code",
      "source": [
        "# Print all elements using nested loops\n",
        "for row in matrix:\n",
        "    for item in row:\n",
        "        print(item, end=\" \")\n",
        "    print()\n"
      ],
      "metadata": {
        "colab": {
          "base_uri": "https://localhost:8080/"
        },
        "id": "TWbWRuXTQibP",
        "outputId": "b0a49568-f293-4255-d413-dac1de8396d8"
      },
      "execution_count": 139,
      "outputs": [
        {
          "output_type": "stream",
          "name": "stdout",
          "text": [
            "1 2 3 \n",
            "4 5 6 \n"
          ]
        }
      ]
    },
    {
      "cell_type": "code",
      "source": [
        "from numpy import *\n",
        "\n",
        "mat = array([[1, 2, 3],\n",
        "             [4, 5, 6]])\n",
        "\n",
        "# Shape = (rows, columns)\n",
        "print(\"Shape:\", mat.shape)\n",
        "\n",
        "# Reshape 2x3 to 3x2\n",
        "reshaped = mat.reshape(3, 2)\n",
        "print(\"Reshaped to 3x2:\\n\", reshaped)\n",
        "\n",
        "# Flatten matrix (2D → 1D)\n",
        "flat = mat.flatten()\n",
        "print(\"Flattened:\", flat)"
      ],
      "metadata": {
        "colab": {
          "base_uri": "https://localhost:8080/"
        },
        "id": "BMRjZgcSQmEN",
        "outputId": "78a8989b-0ca2-4001-e9fe-d1854265c2ac"
      },
      "execution_count": 140,
      "outputs": [
        {
          "output_type": "stream",
          "name": "stdout",
          "text": [
            "Shape: (2, 3)\n",
            "Reshaped to 3x2:\n",
            " [[1 2]\n",
            " [3 4]\n",
            " [5 6]]\n",
            "Flattened: [1 2 3 4 5 6]\n"
          ]
        }
      ]
    }
  ],
  "metadata": {
    "colab": {
      "provenance": [],
      "authorship_tag": "ABX9TyNziorNd9KuXV5j2HjQoAws",
      "include_colab_link": true
    },
    "kernelspec": {
      "display_name": "Python 3",
      "name": "python3"
    },
    "language_info": {
      "name": "python"
    }
  },
  "nbformat": 4,
  "nbformat_minor": 0
}